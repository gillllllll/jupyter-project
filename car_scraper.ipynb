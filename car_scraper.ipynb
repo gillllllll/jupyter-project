{
 "cells": [
  {
   "cell_type": "code",
   "execution_count": null,
   "id": "9f6ede28-4d67-40c2-b59f-1c052a5e2c41",
   "metadata": {},
   "outputs": [],
   "source": []
  },
  {
   "cell_type": "code",
   "execution_count": 13,
   "id": "717ef01b-516e-4eac-9c41-2a89ddba2307",
   "metadata": {},
   "outputs": [],
   "source": [
    "import pandas as pd\n",
    "import numpy as np\n",
    "from datetime import datetime\n",
    "import sqlite3\n",
    "import requests\n",
    "from bs4 import BeautifulSoup\n",
    "import time\n",
    "from selenium import webdriver\n",
    "from selenium.webdriver.common.by import By\n",
    "from selenium.webdriver.chrome.service import Service\n",
    "from webdriver_manager.chrome import ChromeDriverManager\n",
    "\n",
    "# Database setup\n",
    "def init_db():\n",
    "    conn = sqlite3.connect('cars.db')\n",
    "    c = conn.cursor()\n",
    "    c.execute('''CREATE TABLE IF NOT EXISTS listings\n",
    "                 (vin TEXT, price INTEGER, mileage INTEGER, \n",
    "                  location TEXT, date_listed DATE, \n",
    "                  last_updated DATE, dealer TEXT)''')\n",
    "    conn.commit()\n",
    "    return conn\n",
    "\n",
    "def setup_driver():\n",
    "    options = webdriver.ChromeOptions()\n",
    "    options.add_argument('--headless')\n",
    "    return webdriver.Chrome(service=Service(ChromeDriverManager().install()), options=options)\n",
    "\n",
    "def fetch_cars(make, model, zip_code):\n",
    "    driver = setup_driver()\n",
    "    url = f\"https://www.cars.com/shopping/results/?stock_type=all&makes[]={make}&models[]={model}&zip={zip_code}\"\n",
    "    driver.get(url)\n",
    "    time.sleep(3)\n",
    "    return driver.page_source\n",
    "\n",
    "# Setup database\n",
    "conn = init_db()"
   ]
  },
  {
   "cell_type": "code",
   "execution_count": 15,
   "id": "c5490669-564d-4d89-8dbf-e825d8b8663c",
   "metadata": {},
   "outputs": [
    {
     "name": "stdout",
     "output_type": "stream",
     "text": [
      "<html lang=\"en\" class=\"ep-theme-spark\"><head>\n",
      "    <meta charset=\"utf-8\">\n",
      "    <meta http-equiv=\"X-UA-Compatible\" content=\"IE=edge\">\n",
      "    <meta name=\"viewport\" content=\"width=device-width, initial-scale=1.0\">\n",
      "<title data-suffix=\" | Cars.com\">New and Used Vehicles for Sale Near Forest Hills, NY | Cars.com</title>\n",
      "    <meta name=\"description\" content=\"Shop new and used vehicles for sale at Cars.com. Research, compare, and save listings, or contact sellers directly from 4,680 vehicles nationwide.\">\n",
      "\n",
      "<\n"
     ]
    }
   ],
   "source": [
    "make = \"BMW\"\n",
    "model = \"m240i\"\n",
    "zip_code = \"11375\"\n",
    "\n",
    "html = fetch_cars(make, model, zip_code)\n",
    "print(html[:500])"
   ]
  },
  {
   "cell_type": "code",
   "execution_count": 17,
   "id": "7056f0e9-339a-407b-867e-2b5993b9d781",
   "metadata": {},
   "outputs": [
    {
     "name": "stdout",
     "output_type": "stream",
     "text": [
      "[{'price': '$13,997', 'title': '2010 Toyota Matrix Base', 'mileage': '22,616 mi.', 'date_checked': datetime.datetime(2025, 2, 1, 14, 27, 49, 838338)}, {'price': '$42,800', 'title': '2022 Toyota GR Supra 3.0 Premium', 'mileage': '46,618 mi.', 'date_checked': datetime.datetime(2025, 2, 1, 14, 27, 49, 838601)}, {'price': '$28,295', 'title': '2021 Toyota Avalon Hybrid Limited', 'mileage': '48,191 mi.', 'date_checked': datetime.datetime(2025, 2, 1, 14, 27, 49, 838801)}, {'price': '$41,998', 'title': '2025 Toyota Crown Signia XLE', 'mileage': '2,604 mi.', 'date_checked': datetime.datetime(2025, 2, 1, 14, 27, 49, 839022)}, {'price': '$56,341', 'title': '2020 Toyota Supra 3.0 Premium Launch Edition', 'mileage': '1,780 mi.', 'date_checked': datetime.datetime(2025, 2, 1, 14, 27, 49, 839218)}, {'price': '$10,698', 'title': '2017 Toyota Yaris iA Base', 'mileage': '56,384 mi.', 'date_checked': datetime.datetime(2025, 2, 1, 14, 27, 49, 839410)}, {'price': '$25,990', 'title': '2010 Toyota FJ Cruiser', 'mileage': '83,850 mi.', 'date_checked': datetime.datetime(2025, 2, 1, 14, 27, 49, 839601)}, {'price': '$15,999', 'title': '2020 Toyota Yaris Sedan LE', 'mileage': '46,471 mi.', 'date_checked': datetime.datetime(2025, 2, 1, 14, 27, 49, 839793)}, {'price': '$47,998', 'title': '2024 Toyota 4Runner SR5 Premium', 'mileage': '26,635 mi.', 'date_checked': datetime.datetime(2025, 2, 1, 14, 27, 49, 839985)}, {'price': '$50,888', 'title': '2022 Toyota Supra 2', 'mileage': '21,195 mi.', 'date_checked': datetime.datetime(2025, 2, 1, 14, 27, 49, 840176)}, {'price': '$12,999', 'title': '2019 Toyota Yaris Sedan L', 'mileage': '102,754 mi.', 'date_checked': datetime.datetime(2025, 2, 1, 14, 27, 49, 840368)}, {'price': '$9,999', 'title': '2012 Toyota Prius Plug-in Advanced', 'mileage': '110,986 mi.', 'date_checked': datetime.datetime(2025, 2, 1, 14, 27, 49, 840558)}, {'price': '$11,623', 'title': '2013 Toyota Highlander SE', 'mileage': '145,105 mi.', 'date_checked': datetime.datetime(2025, 2, 1, 14, 27, 49, 841007)}, {'price': '$18,998', 'title': '2017 Toyota Prius c Two', 'mileage': '46,047 mi.', 'date_checked': datetime.datetime(2025, 2, 1, 14, 27, 49, 841513)}, {'price': '$20,930', 'title': '2021 Toyota Prius Prime LE', 'mileage': '67,494 mi.', 'date_checked': datetime.datetime(2025, 2, 1, 14, 27, 49, 841704)}, {'price': '$12,995', 'title': '2016 Toyota Prius v Two', 'mileage': '127,438 mi.', 'date_checked': datetime.datetime(2025, 2, 1, 14, 27, 49, 841896)}, {'price': '$38,900', 'title': '2023 Toyota RAV4 Hybrid Limited', 'mileage': '17,015 mi.', 'date_checked': datetime.datetime(2025, 2, 1, 14, 27, 49, 842088)}, {'price': '$27,488', 'title': '2021 Toyota Camry XLE', 'mileage': '13,964 mi.', 'date_checked': datetime.datetime(2025, 2, 1, 14, 27, 49, 842279)}, {'price': '$15,975', 'title': '2018 Toyota Yaris iA Base', 'mileage': '43,734 mi.', 'date_checked': datetime.datetime(2025, 2, 1, 14, 27, 49, 842483)}]\n"
     ]
    }
   ],
   "source": [
    "def parse_listings(html):\n",
    "    soup = BeautifulSoup(html, 'html.parser')\n",
    "    cars = []\n",
    "    \n",
    "    listings = soup.select('div[data-tracking-type=\"srp-vehicle-card\"]')\n",
    "    \n",
    "    for listing in listings:\n",
    "        try:\n",
    "            price = listing.select_one('.primary-price').text\n",
    "            title = listing.select_one('h2').text\n",
    "            mileage = listing.select_one('.mileage').text\n",
    "            \n",
    "            car = {\n",
    "                'price': price.strip(),\n",
    "                'title': title.strip(),\n",
    "                'mileage': mileage.strip(),\n",
    "                'date_checked': datetime.now()\n",
    "            }\n",
    "            cars.append(car)\n",
    "        except:\n",
    "            continue\n",
    "            \n",
    "    return cars\n",
    "\n",
    "# Test it\n",
    "html = fetch_cars('Toyota', 'Camry', '11375')\n",
    "cars = parse_listings(html)\n",
    "print(cars)"
   ]
  },
  {
   "cell_type": "code",
   "execution_count": null,
   "id": "27442530-9c92-45bd-b354-e5c8ee973070",
   "metadata": {},
   "outputs": [],
   "source": []
  },
  {
   "cell_type": "code",
   "execution_count": null,
   "id": "f4f2b4ab-9ad3-4b59-94e5-2f857a2c1fac",
   "metadata": {},
   "outputs": [],
   "source": []
  }
 ],
 "metadata": {
  "kernelspec": {
   "display_name": "Python 3 (ipykernel)",
   "language": "python",
   "name": "python3"
  },
  "language_info": {
   "codemirror_mode": {
    "name": "ipython",
    "version": 3
   },
   "file_extension": ".py",
   "mimetype": "text/x-python",
   "name": "python",
   "nbconvert_exporter": "python",
   "pygments_lexer": "ipython3",
   "version": "3.12.7"
  }
 },
 "nbformat": 4,
 "nbformat_minor": 5
}
